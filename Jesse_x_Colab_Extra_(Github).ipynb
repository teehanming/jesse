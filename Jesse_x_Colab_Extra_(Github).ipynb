{
  "nbformat": 4,
  "nbformat_minor": 0,
  "metadata": {
    "colab": {
      "name": "Jesse x Colab - Extra (Github).ipynb",
      "provenance": [],
      "authorship_tag": "ABX9TyMduDxip05w7tTkEfv8Ilre",
      "include_colab_link": true
    },
    "kernelspec": {
      "name": "python3",
      "display_name": "Python 3"
    },
    "language_info": {
      "name": "python"
    }
  },
  "cells": [
    {
      "cell_type": "markdown",
      "metadata": {
        "id": "view-in-github",
        "colab_type": "text"
      },
      "source": [
        "<a href=\"https://colab.research.google.com/github/teehanming/jesse/blob/colab/Jesse_x_Colab_Extra_(Github).ipynb\" target=\"_parent\"><img src=\"https://colab.research.google.com/assets/colab-badge.svg\" alt=\"Open In Colab\"/></a>"
      ]
    },
    {
      "cell_type": "markdown",
      "metadata": {
        "id": "0ZZb7VL5hKbF"
      },
      "source": [
        "# 2 Option to Sync with Github\n",
        "\n",
        "There are 2 option to choose when sync with Github. The setup details is a must. Copy the code and paste it to your original notebook.\n"
      ]
    },
    {
      "cell_type": "code",
      "metadata": {
        "id": "-tp_M5ZDggum",
        "cellView": "form"
      },
      "source": [
        "#@title Setup details\n",
        "from os.path import join  \n",
        "\n",
        "#@markdown Path to your project on Google Drive\n",
        "MY_GOOGLE_DRIVE_PATH = 'My Drive/jesse.trade/' #@param {type:\"string\"}\n",
        "#@markdown Your jesse bot name\n",
        "bot_name = \"BOT_NAME\" #@param {type:\"string\"}\n",
        "\n",
        "#@markdown Github Setup\n",
        "GIT_USERNAME = \"GITHUB_USERNAME\" #@param {type:\"string\"}\n",
        "GIT_TOKEN = \"GITHUB_TOKEN\" #@param {type:\"string\"}\n",
        "GIT_REPOSITORY = \"GITHUB_REPOSITORY_NAME\" #@param {type:\"string\"}\n",
        "\n",
        "\n",
        "# No need change below\n",
        "ROOT = '/content/drive'\n",
        "PROJECT_PATH = join(ROOT, MY_GOOGLE_DRIVE_PATH)\n",
        "\n",
        "# It's good to print out the value if you are not sure \n",
        "print(\"PROJECT_PATH: \", PROJECT_PATH)   \n",
        "\n",
        "# In case we haven't created the folder already; we will create a folder in the project path \n",
        "!mkdir -p \"{PROJECT_PATH}\"    \n",
        "\n",
        "GIT_PATH = \"https://\" + GIT_TOKEN + \"@github.com/\" + GIT_USERNAME + \"/\" + GIT_REPOSITORY + \".git\"\n",
        "print(\"GIT_PATH: \", GIT_PATH)"
      ],
      "execution_count": null,
      "outputs": []
    },
    {
      "cell_type": "markdown",
      "metadata": {
        "id": "un75d8k4o_C_"
      },
      "source": [
        "# Below are the 2 Option"
      ]
    },
    {
      "cell_type": "code",
      "metadata": {
        "cellView": "form",
        "id": "InPIZL22g-la"
      },
      "source": [
        "#@title Option 1: Sync Colab to Github\n",
        "GIT_COMMIT_MESSAGE = \"message_when_pushing_to_github\" #@param {type:\"string\"}\n",
        "GIT_EMAIL = \"github_email\" #@param {type:\"string\"}\n",
        "GIT_NAME = \"github_name\" #@param {type:\"string\"}\n",
        "GIT_BRANCH = \"master\" #@param {type:\"string\"}\n",
        "\n",
        "\n",
        "!mkdir /content/jtemp\n",
        "!git clone \"https://{GIT_TOKEN}@github.com/{GIT_USERNAME}/{GIT_REPOSITORY}.git\" /content/jtemp\n",
        "!rsync -aP  /content/jesseData /content/jtemp/\n",
        "%cd /content/jtemp\n",
        "!git add .\n",
        "!git commit -m '\"{GIT_COMMIT_MESSAGE}\"'\n",
        "!git config --global user.email \"{GIT_EMAIL}\"\n",
        "!git config --global user.name \"{GIT_NAME}\"\n",
        "!git push origin \"{GIT_BRANCH}\"\n",
        "%cd /content\n",
        "!rm -rf /content/jtemp"
      ],
      "execution_count": null,
      "outputs": []
    },
    {
      "cell_type": "code",
      "metadata": {
        "cellView": "form",
        "id": "UeDb-me_g9Hv"
      },
      "source": [
        "#@title Option 2: Sync Google Drive to Github\n",
        "\n",
        "#@markdown Message when pushing data back to github\n",
        "GIT_COMMIT_MESSAGE = \"message_when_pushing_to_github\" #@param {type:\"string\"}\n",
        "GIT_EMAIL = \"github_email\" #@param {type:\"string\"}\n",
        "GIT_NAME = \"github_name\" #@param {type:\"string\"}\n",
        "GIT_BRANCH = \"master\" #@param {type:\"string\"}\n",
        "\n",
        "#clone github to temporary files and sync drive to it\n",
        "!mkdir -p /content/drive/MyDrive/jtemp\n",
        "%cd /content/drive/MyDrive/jtemp\n",
        "!git clone \"https://{GIT_TOKEN}@github.com/{GIT_USERNAME}/{GIT_REPOSITORY}.git\" /content/drive/MyDrive/jtemp\n",
        "!rsync -aP /content/drive/MyDrive/jtemp/ {PROJECT_PATH}/\n",
        "\n",
        "#push temp files to github\n",
        "%cd /content/drive/MyDrive/jtemp\n",
        "!git add .\n",
        "!git commit -m '\"{GIT_COMMIT_MESSAGE}\"'\n",
        "!git config --global user.email \"{GIT_EMAIL}\"\n",
        "!git config --global user.name \"{GIT_NAME}\"\n",
        "!git push origin \"{GIT_BRANCH}\"\n",
        "%cd /content\n",
        "!rm -rf /content/drive/MyDrive/jtemp"
      ],
      "execution_count": null,
      "outputs": []
    }
  ]
}